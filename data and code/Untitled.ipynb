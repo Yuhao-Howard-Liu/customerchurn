{
 "cells": [
  {
   "cell_type": "code",
   "execution_count": 1,
   "id": "20ba4456-f676-465d-b93e-a2fd4c0b5c79",
   "metadata": {},
   "outputs": [],
   "source": [
    "import matplotlib.pyplot as plt\n",
    "import numpy as np\n",
    "import pandas as pd\n",
    "import seaborn as sns\n",
    "import tensorflow as tf\n",
    "dat = pd.read_csv(\"dataa.csv\")\n",
    "dat = dat.drop([\"recordID\",\"customer_id\"], axis=1)"
   ]
  },
  {
   "cell_type": "code",
   "execution_count": 3,
   "id": "93f9d86e-ea0a-4b5b-98cb-89aadc6d7f93",
   "metadata": {},
   "outputs": [
    {
     "data": {
      "text/plain": [
       "state                            0\n",
       "account_length                   0\n",
       "area_code                        0\n",
       "international_plan               0\n",
       "voice_mail_plan                  0\n",
       "number_vmail_messages            0\n",
       "total_day_minutes                0\n",
       "total_day_calls                  0\n",
       "total_day_charge                 0\n",
       "total_eve_minutes                0\n",
       "total_eve_calls                  0\n",
       "total_eve_charge                 0\n",
       "total_night_minutes              0\n",
       "total_night_calls                0\n",
       "total_night_charge               0\n",
       "total_intl_minutes               0\n",
       "total_intl_calls                 0\n",
       "total_intl_charge                0\n",
       "number_customer_service_calls    0\n",
       "churn                            0\n",
       "dtype: int64"
      ]
     },
     "execution_count": 3,
     "metadata": {},
     "output_type": "execute_result"
    }
   ],
   "source": [
    "#checking for missing values\n",
    "dat.isna().sum()"
   ]
  },
  {
   "cell_type": "markdown",
   "id": "4d923267-7814-48ec-b4ec-b435f97f61b1",
   "metadata": {},
   "source": [
    "No missing values found."
   ]
  },
  {
   "cell_type": "code",
   "execution_count": 4,
   "id": "51dc4ad7-ae2f-46aa-b23f-15aebaf6eee9",
   "metadata": {},
   "outputs": [
    {
     "data": {
      "text/plain": [
       "state                             object\n",
       "account_length                     int64\n",
       "area_code                          int64\n",
       "international_plan                object\n",
       "voice_mail_plan                   object\n",
       "number_vmail_messages              int64\n",
       "total_day_minutes                float64\n",
       "total_day_calls                    int64\n",
       "total_day_charge                 float64\n",
       "total_eve_minutes                float64\n",
       "total_eve_calls                    int64\n",
       "total_eve_charge                 float64\n",
       "total_night_minutes              float64\n",
       "total_night_calls                  int64\n",
       "total_night_charge               float64\n",
       "total_intl_minutes               float64\n",
       "total_intl_calls                   int64\n",
       "total_intl_charge                float64\n",
       "number_customer_service_calls      int64\n",
       "churn                             object\n",
       "dtype: object"
      ]
     },
     "execution_count": 4,
     "metadata": {},
     "output_type": "execute_result"
    }
   ],
   "source": [
    "dat.dtypes"
   ]
  },
  {
   "cell_type": "code",
   "execution_count": 7,
   "id": "2a8a5ae9-7d6a-4b75-a99e-f6350429f26c",
   "metadata": {},
   "outputs": [],
   "source": [
    "bardat=dat[\"state\"].value_counts()"
   ]
  },
  {
   "cell_type": "code",
   "execution_count": 13,
   "id": "88cae182-ce7d-44a1-90f9-bccd8b454c08",
   "metadata": {},
   "outputs": [
    {
     "data": {
      "text/plain": [
       "WV    402\n",
       "MN    326\n",
       "AL    320\n",
       "NY    306\n",
       "OR    299\n",
       "Name: state, dtype: int64"
      ]
     },
     "execution_count": 13,
     "metadata": {},
     "output_type": "execute_result"
    }
   ],
   "source": [
    "bardat[0:5]"
   ]
  },
  {
   "cell_type": "code",
   "execution_count": 14,
   "id": "29230fdb-a65d-4407-aca0-1a61fb91e035",
   "metadata": {},
   "outputs": [
    {
     "data": {
      "text/plain": [
       "pandas.core.series.Series"
      ]
     },
     "execution_count": 14,
     "metadata": {},
     "output_type": "execute_result"
    }
   ],
   "source": [
    "type(bardat)"
   ]
  },
  {
   "cell_type": "code",
   "execution_count": 20,
   "id": "b807b629-0811-4e73-af3a-5f2189a6ea5a",
   "metadata": {},
   "outputs": [
    {
     "data": {
      "image/png": "[encoded data removed]",
      "text/plain": [
       "<Figure size 432x288 with 1 Axes>"
      ]
     },
     "metadata": {
      "needs_background": "light"
     },
     "output_type": "display_data"
    }
   ],
   "source": [
    "bardat[0:25].plot.bar(rot=0)\n",
    "plt.savefig('state1.png')"
   ]
  },
  {
   "cell_type": "code",
   "execution_count": 23,
   "id": "913a25de-caab-4271-88e3-c6b46a269880",
   "metadata": {},
   "outputs": [
    {
     "data": {
      "image/png": "[encoded data removed]",
      "text/plain": [
       "<Figure size 432x288 with 1 Axes>"
      ]
     },
     "metadata": {
      "needs_background": "light"
     },
     "output_type": "display_data"
    }
   ],
   "source": [
    "bardat[26:].plot.bar(ylim=(0,400), rot=0)\n",
    "plt.savefig('state2.png')"
   ]
  },
  {
   "cell_type": "code",
   "execution_count": 35,
   "id": "ef7b229d-2d98-43c6-b112-0fa97a8a53d9",
   "metadata": {},
   "outputs": [
    {
     "data": {
      "image/png": "[encoded data removed]",
      "text/plain": [
       "<Figure size 432x288 with 1 Axes>"
      ]
     },
     "metadata": {},
     "output_type": "display_data"
    }
   ],
   "source": [
    "dat[\"area_code\"].value_counts().plot.pie()\n",
    "plt.savefig('area_code.png')"
   ]
  },
  {
   "cell_type": "code",
   "execution_count": 45,
   "id": "7a743a53-aebc-4ba0-8178-4ebac60b1944",
   "metadata": {},
   "outputs": [
    {
     "data": {
      "image/png": "[encoded data removed]",
      "text/plain": [
       "<Figure size 432x288 with 1 Axes>"
      ]
     },
     "metadata": {
      "needs_background": "light"
     },
     "output_type": "display_data"
    }
   ],
   "source": [
    "dat[\"account_length\"].plot.hist(bins=30).set_xlabel(\"month\")\n",
    "plt.savefig('account_length.png')"
   ]
  },
  {
   "cell_type": "code",
   "execution_count": 38,
   "id": "fe538052-31fb-4682-8759-8f7acb18026b",
   "metadata": {},
   "outputs": [
    {
     "data": {
      "image/png": "[encoded data removed]",
      "text/plain": [
       "<Figure size 432x288 with 1 Axes>"
      ]
     },
     "metadata": {
      "needs_background": "light"
     },
     "output_type": "display_data"
    }
   ],
   "source": [
    "dat[\"churn\"].value_counts().plot.bar()\n",
    "plt.savefig('churn.png')"
   ]
  },
  {
   "cell_type": "code",
   "execution_count": 42,
   "id": "f10e0da9-577a-439d-9d21-95dffe568218",
   "metadata": {},
   "outputs": [
    {
     "data": {
      "image/png": "[encoded data removed]",
      "text/plain": [
       "<Figure size 432x288 with 1 Axes>"
      ]
     },
     "metadata": {
      "needs_background": "light"
     },
     "output_type": "display_data"
    }
   ],
   "source": [
    "dat[\"international_plan\"].value_counts().plot.bar()\n",
    "plt.savefig('international_plan.png')"
   ]
  },
  {
   "cell_type": "code",
   "execution_count": 43,
   "id": "5ebe904b-f800-4919-b786-4aed2f64133b",
   "metadata": {},
   "outputs": [
    {
     "data": {
      "image/png": "[encoded data removed]",
      "text/plain": [
       "<Figure size 432x288 with 1 Axes>"
      ]
     },
     "metadata": {
      "needs_background": "light"
     },
     "output_type": "display_data"
    }
   ],
   "source": [
    "dat[\"voice_mail_plan\"].value_counts().plot.bar()\n",
    "plt.savefig('voice_mail_plan')"
   ]
  },
  {
   "cell_type": "code",
   "execution_count": 51,
   "id": "dc1bba16-333c-44b4-8dff-6f4ad8797ccf",
   "metadata": {},
   "outputs": [
    {
     "data": {
      "image/png": "[encoded data removed]",
      "text/plain": [
       "<Figure size 432x288 with 1 Axes>"
      ]
     },
     "metadata": {
      "needs_background": "light"
     },
     "output_type": "display_data"
    }
   ],
   "source": [
    "dat[\"number_vmail_messages\"].plot.hist(bins=30)\n",
    "plt.savefig('number_vmail_messages.png')"
   ]
  },
  {
   "cell_type": "code",
   "execution_count": 58,
   "id": "6483076f-4aac-4a6f-b290-5f3d13b0b074",
   "metadata": {},
   "outputs": [
    {
     "data": {
      "image/png": "[encoded data removed]",
      "text/plain": [
       "<Figure size 432x288 with 1 Axes>"
      ]
     },
     "metadata": {
      "needs_background": "light"
     },
     "output_type": "display_data"
    }
   ],
   "source": [
    "dat[\"number_customer_service_calls\"].value_counts().plot.bar().set_xlabel(\"number of calls\")\n",
    "plt.savefig('number_customer_service_calls.png')"
   ]
  },
  {
   "cell_type": "code",
   "execution_count": 54,
   "id": "6037a17b-57ed-4f6d-ae00-64f252bc3678",
   "metadata": {},
   "outputs": [
    {
     "data": {
      "text/plain": [
       "<AxesSubplot:ylabel='Frequency'>"
      ]
     },
     "execution_count": 54,
     "metadata": {},
     "output_type": "execute_result"
    },
    {
     "data": {
      "image/png": "[encoded data removed]",
      "text/plain": [
       "<Figure size 432x288 with 1 Axes>"
      ]
     },
     "metadata": {
      "needs_background": "light"
     },
     "output_type": "display_data"
    }
   ],
   "source": [
    "dat[\"number_customer_service_calls\"].plot.hist(bins=10)"
   ]
  },
  {
   "cell_type": "code",
   "execution_count": 72,
   "id": "02fcddd5-6f50-49e6-beee-4f9541b3ea69",
   "metadata": {},
   "outputs": [
    {
     "data": {
      "image/png": "[encoded data removed]",
      "text/plain": [
       "<Figure size 432x288 with 4 Axes>"
      ]
     },
     "metadata": {
      "needs_background": "light"
     },
     "output_type": "display_data"
    }
   ],
   "source": [
    "fig, axs = plt.subplots(2, 2)\n",
    "axs[0, 0].boxplot(dat[\"total_day_minutes\"])\n",
    "axs[0, 0].set_title('Day')\n",
    "axs[0, 1].boxplot(dat[\"total_eve_minutes\"])\n",
    "axs[0, 1].set_title('Evening')\n",
    "axs[1, 0].boxplot(dat[\"total_night_minutes\"])\n",
    "axs[1, 0].set_title('Night')\n",
    "axs[1, 1].boxplot(dat[\"total_intl_minutes\"])\n",
    "axs[1, 1].set_title('International')\n",
    "plt.savefig('total_minutes.png')"
   ]
  },
  {
   "cell_type": "code",
   "execution_count": 77,
   "id": "99d36cdc-3c39-43cf-b434-f48551955cb0",
   "metadata": {},
   "outputs": [
    {
     "data": {
      "image/png": "[encoded data removed]",
      "text/plain": [
       "<Figure size 432x288 with 4 Axes>"
      ]
     },
     "metadata": {
      "needs_background": "light"
     },
     "output_type": "display_data"
    }
   ],
   "source": [
    "fig, axs = plt.subplots(2, 2)\n",
    "axs[0, 0].hist(dat[\"total_day_calls\"],bins=30)\n",
    "axs[0, 0].set_title('Day')\n",
    "axs[0, 1].hist(dat[\"total_eve_calls\"],bins=30)\n",
    "axs[0, 1].set_title('Evening')\n",
    "axs[1, 0].hist(dat[\"total_night_calls\"],bins=30)\n",
    "axs[1, 0].set_title('Night')\n",
    "axs[1, 1].hist(dat[\"total_intl_calls\"],bins=30)\n",
    "axs[1, 1].set_title('International')\n",
    "plt.savefig('total_calls.png')"
   ]
  },
  {
   "cell_type": "code",
   "execution_count": 79,
   "id": "47976e78-71e3-4ae0-9327-369bd9f4416e",
   "metadata": {},
   "outputs": [
    {
     "data": {
      "image/png": "[encoded data removed]",
      "text/plain": [
       "<Figure size 432x288 with 4 Axes>"
      ]
     },
     "metadata": {
      "needs_background": "light"
     },
     "output_type": "display_data"
    }
   ],
   "source": [
    "fig, axs = plt.subplots(2, 2)\n",
    "axs[0, 0].hist(dat[\"total_day_charge\"],bins=30)\n",
    "axs[0, 0].set_title('Day')\n",
    "axs[0, 1].hist(dat[\"total_eve_charge\"],bins=30)\n",
    "axs[0, 1].set_title('Evening')\n",
    "axs[1, 0].hist(dat[\"total_night_charge\"],bins=30)\n",
    "axs[1, 0].set_title('Night')\n",
    "axs[1, 1].hist(dat[\"total_intl_charge\"],bins=30)\n",
    "axs[1, 1].set_title('International')\n",
    "plt.savefig('total_charges.png')"
   ]
  },
  {
   "cell_type": "code",
   "execution_count": 71,
   "id": "50ad3444-d121-475e-a943-1a5e40282b3c",
   "metadata": {},
   "outputs": [
    {
     "data": {
      "text/plain": [
       "Text(0.5, 1.0, 'International')"
      ]
     },
     "execution_count": 71,
     "metadata": {},
     "output_type": "execute_result"
    },
    {
     "data": {
      "image/png": "[encoded data removed]",
      "text/plain": [
       "<Figure size 432x288 with 4 Axes>"
      ]
     },
     "metadata": {
      "needs_background": "light"
     },
     "output_type": "display_data"
    }
   ],
   "source": []
  },
  {
   "cell_type": "code",
   "execution_count": 2,
   "id": "0e14492e-7967-4dbb-8c5a-8616a52cb414",
   "metadata": {},
   "outputs": [],
   "source": [
    "from sklearn.metrics import accuracy_score, roc_auc_score\n",
    "from sklearn.metrics import average_precision_score\n",
    "from sklearn.metrics import confusion_matrix, RocCurveDisplay, PrecisionRecallDisplay\n",
    "from sklearn.model_selection import train_test_split"
   ]
  },
  {
   "cell_type": "code",
   "execution_count": 3,
   "id": "eb4853bd-1e2d-476f-ab06-e111402fcbcc",
   "metadata": {},
   "outputs": [],
   "source": [
    "features = dat.drop([\"churn\"], axis=1)\n",
    "target = dat[\"churn\"]"
   ]
  },
  {
   "cell_type": "code",
   "execution_count": 4,
   "id": "798fd108-4322-409f-9732-55fa183c9493",
   "metadata": {},
   "outputs": [],
   "source": [
    "X_main, X_test, y_main, y_test = train_test_split(\n",
    "    features, target, test_size=0.2, random_state=7)\n",
    "X_train, X_val, y_train, y_val = train_test_split(\n",
    "    X_main, y_main, test_size=0.25, random_state=12)"
   ]
  },
  {
   "cell_type": "code",
   "execution_count": 12,
   "id": "3cbe122b-92df-431e-9f74-9326cc14c083",
   "metadata": {},
   "outputs": [
    {
     "data": {
      "text/plain": [
       "no     2177\n",
       "yes     402\n",
       "Name: churn, dtype: int64"
      ]
     },
     "execution_count": 12,
     "metadata": {},
     "output_type": "execute_result"
    }
   ],
   "source": [
    "y_test.value_counts()"
   ]
  },
  {
   "cell_type": "code",
   "execution_count": 6,
   "id": "8d618651-d605-4c50-966b-91f22b227b62",
   "metadata": {},
   "outputs": [],
   "source": [
    "y_naive=pd.Series(['no']*2579)"
   ]
  },
  {
   "cell_type": "code",
   "execution_count": 7,
   "id": "be40d1c5-1187-4952-8802-982a1c467781",
   "metadata": {},
   "outputs": [
    {
     "data": {
      "text/plain": [
       "0.8441256300891818"
      ]
     },
     "execution_count": 7,
     "metadata": {},
     "output_type": "execute_result"
    }
   ],
   "source": [
    "#accuracy\n",
    "accuracy_score(y_test,y_naive)"
   ]
  },
  {
   "cell_type": "code",
   "execution_count": 25,
   "id": "61a54131-ce2b-4e25-8eec-46c38a4e5500",
   "metadata": {},
   "outputs": [
    {
     "data": {
      "text/plain": [
       "0.15587436991081816"
      ]
     },
     "execution_count": 25,
     "metadata": {},
     "output_type": "execute_result"
    }
   ],
   "source": [
    "average_precision_score(y_test.map(dict(yes=1, no=0)), y_naive.map(dict(yes=1, no=0)))"
   ]
  },
  {
   "cell_type": "code",
   "execution_count": 31,
   "id": "56ad03b3-fd38-4e0e-ab34-9a31f059bae5",
   "metadata": {},
   "outputs": [
    {
     "data": {
      "image/png": "[encoded data removed]",
      "text/plain": [
       "<Figure size 432x288 with 1 Axes>"
      ]
     },
     "metadata": {
      "needs_background": "light"
     },
     "output_type": "display_data"
    }
   ],
   "source": [
    "RocCurveDisplay.from_predictions(y_test.map(dict(yes=1, no=0)), y_naive.map(dict(yes=1, no=0)), name=\"\");\n",
    "plt.savefig('RoC.png')"
   ]
  },
  {
   "cell_type": "code",
   "execution_count": 30,
   "id": "9aa798ff-0aec-4c5e-89dd-6a0384f729c7",
   "metadata": {},
   "outputs": [
    {
     "data": {
      "image/png": "[encoded data removed]",
      "text/plain": [
       "<Figure size 432x288 with 1 Axes>"
      ]
     },
     "metadata": {
      "needs_background": "light"
     },
     "output_type": "display_data"
    }
   ],
   "source": [
    "PrecisionRecallDisplay.from_predictions(y_test.map(dict(yes=1, no=0)), y_naive.map(dict(yes=1, no=0)), name=\"\");\n",
    "plt.savefig('Pr.png')"
   ]
  },
  {
   "cell_type": "code",
   "execution_count": 27,
   "id": "bb73e30c-c4a6-4264-9ffd-877e18b368d4",
   "metadata": {},
   "outputs": [
    {
     "data": {
      "text/plain": [
       "0.5"
      ]
     },
     "execution_count": 27,
     "metadata": {},
     "output_type": "execute_result"
    }
   ],
   "source": [
    "roc_auc_score(y_test.map(dict(yes=1, no=0)), y_naive.map(dict(yes=1, no=0)))"
   ]
  },
  {
   "cell_type": "code",
   "execution_count": 41,
   "id": "829e1eb0-5da1-4327-b3c5-b0b19366b66d",
   "metadata": {},
   "outputs": [],
   "source": [
    "import tensorflow as tf\n",
    "bce = tf.keras.losses.BinaryCrossentropy(label_smoothing=0)"
   ]
  },
  {
   "cell_type": "code",
   "execution_count": 2,
   "id": "c63607e3-2d04-4c7f-b31c-e340e239ea06",
   "metadata": {},
   "outputs": [
    {
     "name": "stdout",
     "output_type": "stream",
     "text": [
      "Already downloaded.\n"
     ]
    }
   ],
   "source": [
    "from pathlib import Path\n",
    "if not Path(\"customer_data_edited.csv\").exists():\n",
    "  print(\"Downloading dataset...\")\n",
    "  !wget https://data.world/bob-wakefield/call-center-data/customer_data_edited.csv\n",
    "else:\n",
    "  print(\"Already downloaded.\")"
   ]
  },
  {
   "cell_type": "code",
   "execution_count": 43,
   "id": "ee662ebd-968e-4b62-9477-1351520495ff",
   "metadata": {},
   "outputs": [
    {
     "ename": "ValueError",
     "evalue": "Failed to convert a NumPy array to a Tensor (Unsupported object type list).",
     "output_type": "error",
     "traceback": [
      "\u001b[1;31m---------------------------------------------------------------------------\u001b[0m",
      "\u001b[1;31mValueError\u001b[0m                                Traceback (most recent call last)",
      "\u001b[1;32m~\\AppData\\Local\\Temp/ipykernel_2332/2592586046.py\u001b[0m in \u001b[0;36m<module>\u001b[1;34m\u001b[0m\n\u001b[1;32m----> 1\u001b[1;33m \u001b[0ma\u001b[0m\u001b[1;33m=\u001b[0m\u001b[0mtf\u001b[0m\u001b[1;33m.\u001b[0m\u001b[0mconvert_to_tensor\u001b[0m\u001b[1;33m(\u001b[0m\u001b[0my_test\u001b[0m\u001b[1;33m.\u001b[0m\u001b[0mmap\u001b[0m\u001b[1;33m(\u001b[0m\u001b[0mdict\u001b[0m\u001b[1;33m(\u001b[0m\u001b[0myes\u001b[0m\u001b[1;33m=\u001b[0m\u001b[1;33m[\u001b[0m\u001b[1;36m0\u001b[0m\u001b[1;33m,\u001b[0m\u001b[1;36m1\u001b[0m\u001b[1;33m]\u001b[0m\u001b[1;33m,\u001b[0m \u001b[0mno\u001b[0m\u001b[1;33m=\u001b[0m\u001b[1;33m[\u001b[0m\u001b[1;36m1\u001b[0m\u001b[1;33m,\u001b[0m\u001b[1;36m0\u001b[0m\u001b[1;33m]\u001b[0m\u001b[1;33m)\u001b[0m\u001b[1;33m)\u001b[0m\u001b[1;33m)\u001b[0m\u001b[1;33m\u001b[0m\u001b[1;33m\u001b[0m\u001b[0m\n\u001b[0m",
      "\u001b[1;32m~\\anaconda3\\lib\\site-packages\\tensorflow\\python\\util\\traceback_utils.py\u001b[0m in \u001b[0;36merror_handler\u001b[1;34m(*args, **kwargs)\u001b[0m\n\u001b[0;32m    151\u001b[0m     \u001b[1;32mexcept\u001b[0m \u001b[0mException\u001b[0m \u001b[1;32mas\u001b[0m \u001b[0me\u001b[0m\u001b[1;33m:\u001b[0m\u001b[1;33m\u001b[0m\u001b[1;33m\u001b[0m\u001b[0m\n\u001b[0;32m    152\u001b[0m       \u001b[0mfiltered_tb\u001b[0m \u001b[1;33m=\u001b[0m \u001b[0m_process_traceback_frames\u001b[0m\u001b[1;33m(\u001b[0m\u001b[0me\u001b[0m\u001b[1;33m.\u001b[0m\u001b[0m__traceback__\u001b[0m\u001b[1;33m)\u001b[0m\u001b[1;33m\u001b[0m\u001b[1;33m\u001b[0m\u001b[0m\n\u001b[1;32m--> 153\u001b[1;33m       \u001b[1;32mraise\u001b[0m \u001b[0me\u001b[0m\u001b[1;33m.\u001b[0m\u001b[0mwith_traceback\u001b[0m\u001b[1;33m(\u001b[0m\u001b[0mfiltered_tb\u001b[0m\u001b[1;33m)\u001b[0m \u001b[1;32mfrom\u001b[0m \u001b[1;32mNone\u001b[0m\u001b[1;33m\u001b[0m\u001b[1;33m\u001b[0m\u001b[0m\n\u001b[0m\u001b[0;32m    154\u001b[0m     \u001b[1;32mfinally\u001b[0m\u001b[1;33m:\u001b[0m\u001b[1;33m\u001b[0m\u001b[1;33m\u001b[0m\u001b[0m\n\u001b[0;32m    155\u001b[0m       \u001b[1;32mdel\u001b[0m \u001b[0mfiltered_tb\u001b[0m\u001b[1;33m\u001b[0m\u001b[1;33m\u001b[0m\u001b[0m\n",
      "\u001b[1;32m~\\anaconda3\\lib\\site-packages\\tensorflow\\python\\framework\\constant_op.py\u001b[0m in \u001b[0;36mconvert_to_eager_tensor\u001b[1;34m(value, ctx, dtype)\u001b[0m\n\u001b[0;32m    100\u001b[0m       \u001b[0mdtype\u001b[0m \u001b[1;33m=\u001b[0m \u001b[0mdtypes\u001b[0m\u001b[1;33m.\u001b[0m\u001b[0mas_dtype\u001b[0m\u001b[1;33m(\u001b[0m\u001b[0mdtype\u001b[0m\u001b[1;33m)\u001b[0m\u001b[1;33m.\u001b[0m\u001b[0mas_datatype_enum\u001b[0m\u001b[1;33m\u001b[0m\u001b[1;33m\u001b[0m\u001b[0m\n\u001b[0;32m    101\u001b[0m   \u001b[0mctx\u001b[0m\u001b[1;33m.\u001b[0m\u001b[0mensure_initialized\u001b[0m\u001b[1;33m(\u001b[0m\u001b[1;33m)\u001b[0m\u001b[1;33m\u001b[0m\u001b[1;33m\u001b[0m\u001b[0m\n\u001b[1;32m--> 102\u001b[1;33m   \u001b[1;32mreturn\u001b[0m \u001b[0mops\u001b[0m\u001b[1;33m.\u001b[0m\u001b[0mEagerTensor\u001b[0m\u001b[1;33m(\u001b[0m\u001b[0mvalue\u001b[0m\u001b[1;33m,\u001b[0m \u001b[0mctx\u001b[0m\u001b[1;33m.\u001b[0m\u001b[0mdevice_name\u001b[0m\u001b[1;33m,\u001b[0m \u001b[0mdtype\u001b[0m\u001b[1;33m)\u001b[0m\u001b[1;33m\u001b[0m\u001b[1;33m\u001b[0m\u001b[0m\n\u001b[0m\u001b[0;32m    103\u001b[0m \u001b[1;33m\u001b[0m\u001b[0m\n\u001b[0;32m    104\u001b[0m \u001b[1;33m\u001b[0m\u001b[0m\n",
      "\u001b[1;31mValueError\u001b[0m: Failed to convert a NumPy array to a Tensor (Unsupported object type list)."
     ]
    }
   ],
   "source": [
    "a=tf.convert_to_tensor(y_test.map(dict(yes=[0,1], no=[1,0])))"
   ]
  },
  {
   "cell_type": "code",
   "execution_count": null,
   "id": "991265c8-f8fa-4fe5-96a8-c64855f28105",
   "metadata": {},
   "outputs": [],
   "source": []
  }
 ],
 "metadata": {
  "kernelspec": {
   "display_name": "Python 3 (ipykernel)",
   "language": "python",
   "name": "python3"
  },
  "language_info": {
   "codemirror_mode": {
    "name": "ipython",
    "version": 3
   },
   "file_extension": ".py",
   "mimetype": "text/x-python",
   "name": "python",
   "nbconvert_exporter": "python",
   "pygments_lexer": "ipython3",
   "version": "3.9.7"
  }
 },
 "nbformat": 4,
 "nbformat_minor": 5
}
