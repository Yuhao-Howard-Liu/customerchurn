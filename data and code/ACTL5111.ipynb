{
 "cells": [
  {
   "cell_type": "code",
   "execution_count": 1,
   "id": "36f5b597-b39e-48d0-bfdf-87e2f5dfd3a8",
   "metadata": {},
   "outputs": [],
   "source": [
    "import matplotlib.pyplot as plt\n",
    "import numpy as np\n",
    "import pandas as pd\n",
    "import seaborn as sns\n",
    "import tensorflow as tf\n",
    "import sklearn\n",
    "from tensorflow.keras.models import Sequential\n",
    "from tensorflow.keras.models import Model\n",
    "from tensorflow.keras.layers import Dense\n",
    "from tensorflow.keras.layers import InputLayer\n",
    "from tensorflow.keras.layers import Embedding\n",
    "from tensorflow.keras.layers import Input\n",
    "from tensorflow.keras.layers import Reshape\n",
    "from tensorflow.keras.layers import Concatenate\n",
    "from tensorflow.keras.callbacks import EarlyStopping\n",
    "from tensorflow.keras.callbacks import ModelCheckpoint\n",
    "from tensorflow.keras.utils import plot_model\n",
    "from sklearn.metrics import accuracy_score, roc_auc_score\n",
    "from sklearn.metrics import average_precision_score\n",
    "from sklearn.metrics import confusion_matrix, RocCurveDisplay, PrecisionRecallDisplay\n",
    "from sklearn.preprocessing import OneHotEncoder, StandardScaler\n",
    "from sklearn.preprocessing import OrdinalEncoder\n",
    "from sklearn.model_selection import train_test_split\n",
    "from sklearn.compose import make_column_transformer"
   ]
  },
  {
   "cell_type": "code",
   "execution_count": 2,
   "id": "68ca734e-bb38-4082-abe1-cf48fc4e1882",
   "metadata": {},
   "outputs": [],
   "source": [
    "data = pd.read_csv('https://query.data.world/s/2jrkoyzkutqavbjqawv636ry3ibenw')"
   ]
  },
  {
   "cell_type": "code",
   "execution_count": 3,
   "id": "e1c9ef7c-3c4d-4e0c-8506-00bec9f2d3d1",
   "metadata": {},
   "outputs": [],
   "source": [
    "data = data.drop([\"recordID\",\"customer_id\"], axis=1)"
   ]
  },
  {
   "cell_type": "code",
   "execution_count": 4,
   "id": "783fa5b8-263e-42ae-b260-123e9ed4a054",
   "metadata": {},
   "outputs": [
    {
     "data": {
      "text/html": [
       "<div>\n",
       "<style scoped>\n",
       "    .dataframe tbody tr th:only-of-type {\n",
       "        vertical-align: middle;\n",
       "    }\n",
       "\n",
       "    .dataframe tbody tr th {\n",
       "        vertical-align: top;\n",
       "    }\n",
       "\n",
       "    .dataframe thead th {\n",
       "        text-align: right;\n",
       "    }\n",
       "</style>\n",
       "<table border=\"1\" class=\"dataframe\">\n",
       "  <thead>\n",
       "    <tr style=\"text-align: right;\">\n",
       "      <th></th>\n",
       "      <th>state</th>\n",
       "      <th>account_length</th>\n",
       "      <th>area_code</th>\n",
       "      <th>international_plan</th>\n",
       "      <th>voice_mail_plan</th>\n",
       "      <th>number_vmail_messages</th>\n",
       "      <th>total_day_minutes</th>\n",
       "      <th>total_day_calls</th>\n",
       "      <th>total_day_charge</th>\n",
       "      <th>total_eve_minutes</th>\n",
       "      <th>total_eve_calls</th>\n",
       "      <th>total_eve_charge</th>\n",
       "      <th>total_night_minutes</th>\n",
       "      <th>total_night_calls</th>\n",
       "      <th>total_night_charge</th>\n",
       "      <th>total_intl_minutes</th>\n",
       "      <th>total_intl_calls</th>\n",
       "      <th>total_intl_charge</th>\n",
       "      <th>number_customer_service_calls</th>\n",
       "      <th>churn</th>\n",
       "    </tr>\n",
       "  </thead>\n",
       "  <tbody>\n",
       "    <tr>\n",
       "      <th>0</th>\n",
       "      <td>HI</td>\n",
       "      <td>101</td>\n",
       "      <td>510</td>\n",
       "      <td>no</td>\n",
       "      <td>no</td>\n",
       "      <td>0</td>\n",
       "      <td>70.9</td>\n",
       "      <td>123</td>\n",
       "      <td>12.05</td>\n",
       "      <td>211.9</td>\n",
       "      <td>73</td>\n",
       "      <td>18.01</td>\n",
       "      <td>236.0</td>\n",
       "      <td>73</td>\n",
       "      <td>10.62</td>\n",
       "      <td>10.6</td>\n",
       "      <td>3</td>\n",
       "      <td>2.86</td>\n",
       "      <td>3</td>\n",
       "      <td>no</td>\n",
       "    </tr>\n",
       "    <tr>\n",
       "      <th>1</th>\n",
       "      <td>MT</td>\n",
       "      <td>137</td>\n",
       "      <td>510</td>\n",
       "      <td>no</td>\n",
       "      <td>no</td>\n",
       "      <td>0</td>\n",
       "      <td>223.6</td>\n",
       "      <td>86</td>\n",
       "      <td>38.01</td>\n",
       "      <td>244.8</td>\n",
       "      <td>139</td>\n",
       "      <td>20.81</td>\n",
       "      <td>94.2</td>\n",
       "      <td>81</td>\n",
       "      <td>4.24</td>\n",
       "      <td>9.5</td>\n",
       "      <td>7</td>\n",
       "      <td>2.57</td>\n",
       "      <td>0</td>\n",
       "      <td>no</td>\n",
       "    </tr>\n",
       "    <tr>\n",
       "      <th>2</th>\n",
       "      <td>OH</td>\n",
       "      <td>103</td>\n",
       "      <td>408</td>\n",
       "      <td>no</td>\n",
       "      <td>yes</td>\n",
       "      <td>29</td>\n",
       "      <td>294.7</td>\n",
       "      <td>95</td>\n",
       "      <td>50.10</td>\n",
       "      <td>237.3</td>\n",
       "      <td>105</td>\n",
       "      <td>20.17</td>\n",
       "      <td>300.3</td>\n",
       "      <td>127</td>\n",
       "      <td>13.51</td>\n",
       "      <td>13.7</td>\n",
       "      <td>6</td>\n",
       "      <td>3.70</td>\n",
       "      <td>1</td>\n",
       "      <td>no</td>\n",
       "    </tr>\n",
       "    <tr>\n",
       "      <th>3</th>\n",
       "      <td>NM</td>\n",
       "      <td>99</td>\n",
       "      <td>415</td>\n",
       "      <td>no</td>\n",
       "      <td>no</td>\n",
       "      <td>0</td>\n",
       "      <td>216.8</td>\n",
       "      <td>123</td>\n",
       "      <td>36.86</td>\n",
       "      <td>126.4</td>\n",
       "      <td>88</td>\n",
       "      <td>10.74</td>\n",
       "      <td>220.6</td>\n",
       "      <td>82</td>\n",
       "      <td>9.93</td>\n",
       "      <td>15.7</td>\n",
       "      <td>2</td>\n",
       "      <td>4.24</td>\n",
       "      <td>1</td>\n",
       "      <td>no</td>\n",
       "    </tr>\n",
       "    <tr>\n",
       "      <th>4</th>\n",
       "      <td>SC</td>\n",
       "      <td>108</td>\n",
       "      <td>415</td>\n",
       "      <td>no</td>\n",
       "      <td>no</td>\n",
       "      <td>0</td>\n",
       "      <td>197.4</td>\n",
       "      <td>78</td>\n",
       "      <td>33.56</td>\n",
       "      <td>124.0</td>\n",
       "      <td>101</td>\n",
       "      <td>10.54</td>\n",
       "      <td>204.5</td>\n",
       "      <td>107</td>\n",
       "      <td>9.20</td>\n",
       "      <td>7.7</td>\n",
       "      <td>4</td>\n",
       "      <td>2.08</td>\n",
       "      <td>2</td>\n",
       "      <td>no</td>\n",
       "    </tr>\n",
       "    <tr>\n",
       "      <th>...</th>\n",
       "      <td>...</td>\n",
       "      <td>...</td>\n",
       "      <td>...</td>\n",
       "      <td>...</td>\n",
       "      <td>...</td>\n",
       "      <td>...</td>\n",
       "      <td>...</td>\n",
       "      <td>...</td>\n",
       "      <td>...</td>\n",
       "      <td>...</td>\n",
       "      <td>...</td>\n",
       "      <td>...</td>\n",
       "      <td>...</td>\n",
       "      <td>...</td>\n",
       "      <td>...</td>\n",
       "      <td>...</td>\n",
       "      <td>...</td>\n",
       "      <td>...</td>\n",
       "      <td>...</td>\n",
       "      <td>...</td>\n",
       "    </tr>\n",
       "    <tr>\n",
       "      <th>12887</th>\n",
       "      <td>MT</td>\n",
       "      <td>25</td>\n",
       "      <td>415</td>\n",
       "      <td>no</td>\n",
       "      <td>no</td>\n",
       "      <td>0</td>\n",
       "      <td>134.3</td>\n",
       "      <td>98</td>\n",
       "      <td>22.83</td>\n",
       "      <td>202.3</td>\n",
       "      <td>109</td>\n",
       "      <td>17.20</td>\n",
       "      <td>195.9</td>\n",
       "      <td>100</td>\n",
       "      <td>8.82</td>\n",
       "      <td>12.6</td>\n",
       "      <td>5</td>\n",
       "      <td>3.40</td>\n",
       "      <td>2</td>\n",
       "      <td>no</td>\n",
       "    </tr>\n",
       "    <tr>\n",
       "      <th>12888</th>\n",
       "      <td>MT</td>\n",
       "      <td>113</td>\n",
       "      <td>415</td>\n",
       "      <td>no</td>\n",
       "      <td>no</td>\n",
       "      <td>0</td>\n",
       "      <td>215.9</td>\n",
       "      <td>93</td>\n",
       "      <td>36.70</td>\n",
       "      <td>240.1</td>\n",
       "      <td>85</td>\n",
       "      <td>20.41</td>\n",
       "      <td>156.7</td>\n",
       "      <td>123</td>\n",
       "      <td>7.05</td>\n",
       "      <td>4.9</td>\n",
       "      <td>5</td>\n",
       "      <td>1.32</td>\n",
       "      <td>3</td>\n",
       "      <td>no</td>\n",
       "    </tr>\n",
       "    <tr>\n",
       "      <th>12889</th>\n",
       "      <td>ID</td>\n",
       "      <td>88</td>\n",
       "      <td>415</td>\n",
       "      <td>no</td>\n",
       "      <td>yes</td>\n",
       "      <td>31</td>\n",
       "      <td>181.6</td>\n",
       "      <td>91</td>\n",
       "      <td>30.87</td>\n",
       "      <td>213.2</td>\n",
       "      <td>120</td>\n",
       "      <td>18.12</td>\n",
       "      <td>207.8</td>\n",
       "      <td>104</td>\n",
       "      <td>9.35</td>\n",
       "      <td>11.4</td>\n",
       "      <td>4</td>\n",
       "      <td>3.08</td>\n",
       "      <td>1</td>\n",
       "      <td>no</td>\n",
       "    </tr>\n",
       "    <tr>\n",
       "      <th>12890</th>\n",
       "      <td>AK</td>\n",
       "      <td>120</td>\n",
       "      <td>415</td>\n",
       "      <td>no</td>\n",
       "      <td>no</td>\n",
       "      <td>0</td>\n",
       "      <td>178.4</td>\n",
       "      <td>97</td>\n",
       "      <td>30.33</td>\n",
       "      <td>168.3</td>\n",
       "      <td>113</td>\n",
       "      <td>14.31</td>\n",
       "      <td>120.5</td>\n",
       "      <td>93</td>\n",
       "      <td>5.42</td>\n",
       "      <td>9.3</td>\n",
       "      <td>9</td>\n",
       "      <td>2.51</td>\n",
       "      <td>1</td>\n",
       "      <td>no</td>\n",
       "    </tr>\n",
       "    <tr>\n",
       "      <th>12891</th>\n",
       "      <td>UT</td>\n",
       "      <td>74</td>\n",
       "      <td>415</td>\n",
       "      <td>no</td>\n",
       "      <td>no</td>\n",
       "      <td>0</td>\n",
       "      <td>106.4</td>\n",
       "      <td>84</td>\n",
       "      <td>18.09</td>\n",
       "      <td>140.2</td>\n",
       "      <td>104</td>\n",
       "      <td>11.92</td>\n",
       "      <td>90.9</td>\n",
       "      <td>81</td>\n",
       "      <td>4.09</td>\n",
       "      <td>11.4</td>\n",
       "      <td>3</td>\n",
       "      <td>3.08</td>\n",
       "      <td>1</td>\n",
       "      <td>no</td>\n",
       "    </tr>\n",
       "  </tbody>\n",
       "</table>\n",
       "<p>12892 rows × 20 columns</p>\n",
       "</div>"
      ],
      "text/plain": [
       "      state  account_length  area_code international_plan voice_mail_plan  \\\n",
       "0        HI             101        510                 no              no   \n",
       "1        MT             137        510                 no              no   \n",
       "2        OH             103        408                 no             yes   \n",
       "3        NM              99        415                 no              no   \n",
       "4        SC             108        415                 no              no   \n",
       "...     ...             ...        ...                ...             ...   \n",
       "12887    MT              25        415                 no              no   \n",
       "12888    MT             113        415                 no              no   \n",
       "12889    ID              88        415                 no             yes   \n",
       "12890    AK             120        415                 no              no   \n",
       "12891    UT              74        415                 no              no   \n",
       "\n",
       "       number_vmail_messages  total_day_minutes  total_day_calls  \\\n",
       "0                          0               70.9              123   \n",
       "1                          0              223.6               86   \n",
       "2                         29              294.7               95   \n",
       "3                          0              216.8              123   \n",
       "4                          0              197.4               78   \n",
       "...                      ...                ...              ...   \n",
       "12887                      0              134.3               98   \n",
       "12888                      0              215.9               93   \n",
       "12889                     31              181.6               91   \n",
       "12890                      0              178.4               97   \n",
       "12891                      0              106.4               84   \n",
       "\n",
       "       total_day_charge  total_eve_minutes  total_eve_calls  total_eve_charge  \\\n",
       "0                 12.05              211.9               73             18.01   \n",
       "1                 38.01              244.8              139             20.81   \n",
       "2                 50.10              237.3              105             20.17   \n",
       "3                 36.86              126.4               88             10.74   \n",
       "4                 33.56              124.0              101             10.54   \n",
       "...                 ...                ...              ...               ...   \n",
       "12887             22.83              202.3              109             17.20   \n",
       "12888             36.70              240.1               85             20.41   \n",
       "12889             30.87              213.2              120             18.12   \n",
       "12890             30.33              168.3              113             14.31   \n",
       "12891             18.09              140.2              104             11.92   \n",
       "\n",
       "       total_night_minutes  total_night_calls  total_night_charge  \\\n",
       "0                    236.0                 73               10.62   \n",
       "1                     94.2                 81                4.24   \n",
       "2                    300.3                127               13.51   \n",
       "3                    220.6                 82                9.93   \n",
       "4                    204.5                107                9.20   \n",
       "...                    ...                ...                 ...   \n",
       "12887                195.9                100                8.82   \n",
       "12888                156.7                123                7.05   \n",
       "12889                207.8                104                9.35   \n",
       "12890                120.5                 93                5.42   \n",
       "12891                 90.9                 81                4.09   \n",
       "\n",
       "       total_intl_minutes  total_intl_calls  total_intl_charge  \\\n",
       "0                    10.6                 3               2.86   \n",
       "1                     9.5                 7               2.57   \n",
       "2                    13.7                 6               3.70   \n",
       "3                    15.7                 2               4.24   \n",
       "4                     7.7                 4               2.08   \n",
       "...                   ...               ...                ...   \n",
       "12887                12.6                 5               3.40   \n",
       "12888                 4.9                 5               1.32   \n",
       "12889                11.4                 4               3.08   \n",
       "12890                 9.3                 9               2.51   \n",
       "12891                11.4                 3               3.08   \n",
       "\n",
       "       number_customer_service_calls churn  \n",
       "0                                  3    no  \n",
       "1                                  0    no  \n",
       "2                                  1    no  \n",
       "3                                  1    no  \n",
       "4                                  2    no  \n",
       "...                              ...   ...  \n",
       "12887                              2    no  \n",
       "12888                              3    no  \n",
       "12889                              1    no  \n",
       "12890                              1    no  \n",
       "12891                              1    no  \n",
       "\n",
       "[12892 rows x 20 columns]"
      ]
     },
     "execution_count": 4,
     "metadata": {},
     "output_type": "execute_result"
    }
   ],
   "source": [
    "data"
   ]
  },
  {
   "cell_type": "code",
   "execution_count": 5,
   "id": "43cd1764-b5b9-439b-878a-a75f598e5f2e",
   "metadata": {},
   "outputs": [
    {
     "data": {
      "text/plain": [
       "Series([], dtype: int64)"
      ]
     },
     "execution_count": 5,
     "metadata": {},
     "output_type": "execute_result"
    }
   ],
   "source": [
    "#check missing data, copied from week 4 page 5\n",
    "numberMissing = data.isna().sum()\n",
    "numberMissing[numberMissing > 0]"
   ]
  },
  {
   "cell_type": "code",
   "execution_count": 6,
   "id": "c25bb064-ef71-4de6-ad0a-8d0b71f613ca",
   "metadata": {},
   "outputs": [],
   "source": [
    "#split data into features and targets\n",
    "features = data.drop([\"churn\"], axis=1)\n",
    "target = data[\"churn\"]"
   ]
  },
  {
   "cell_type": "code",
   "execution_count": 7,
   "id": "89914476-6afd-4bae-9bc1-4634860c0609",
   "metadata": {},
   "outputs": [
    {
     "data": {
      "text/plain": [
       "((7734, 19), (2579, 19), (2579, 19))"
      ]
     },
     "execution_count": 7,
     "metadata": {},
     "output_type": "execute_result"
    }
   ],
   "source": [
    "#split data into 3 portions copied from week 4 page 5\n",
    "X_main, X_test, y_main, y_test = train_test_split(features, target, test_size=0.2, random_state=711)\n",
    "X_train, X_val, y_train, y_val = train_test_split(X_main, y_main, test_size=0.25, random_state=54)\n",
    "X_train.shape, X_val.shape, X_test.shape"
   ]
  },
  {
   "cell_type": "code",
   "execution_count": 8,
   "id": "d2bf5fa9-0f59-41e5-b7df-208617b6c399",
   "metadata": {},
   "outputs": [],
   "source": [
    "# data preprocessing adapted from p7 week 4\n",
    "catVars =  [\"state\", \"area_code\", \"international_plan\",\n",
    "    \"voice_mail_plan\"]\n",
    "\n",
    "ct = make_column_transformer(\n",
    "  (OneHotEncoder(handle_unknown=\"ignore\"), catVars),\n",
    "  remainder= StandardScaler()\n",
    ")\n",
    "\n",
    "X_train_ct = ct.fit_transform(X_train)\n",
    "X_val_ct = ct.transform(X_val)\n",
    "X_test_ct = ct.transform(X_test)"
   ]
  },
  {
   "cell_type": "code",
   "execution_count": 9,
   "id": "fbcfd5aa-7b55-433e-a67f-a23090b4734d",
   "metadata": {},
   "outputs": [],
   "source": [
    "#ordinal encoder for target\n",
    "oe = OrdinalEncoder()\n",
    "y_train_oe = oe.fit_transform(y_train.to_numpy().reshape(-1,1))\n",
    "y_test_oe = oe.transform(y_test.to_numpy().reshape(-1,1))\n",
    "y_val_oe = oe.transform(y_val.to_numpy().reshape(-1,1))"
   ]
  },
  {
   "cell_type": "code",
   "execution_count": 10,
   "id": "2eaf8892-8458-492e-a5c2-4b0b70ed8b5f",
   "metadata": {},
   "outputs": [],
   "source": [
    "#model 1: a feedforward model\n",
    "def create_modelff(seed=5097536):\n",
    "    tf.random.set_seed(seed)\n",
    "    model = Sequential()\n",
    "    model.add(InputLayer(input_shape=X_train_ct.shape[1:], name='input_layer'))\n",
    "    model.add(Dense(128, \"leaky_relu\",name=\"hidden1\"))\n",
    "    model.add(Dense(32, \"leaky_relu\",name=\"hidden2\"))\n",
    "    model.add(Dense(1, \"sigmoid\",name=\"output\"))\n",
    "    return model"
   ]
  },
  {
   "cell_type": "code",
   "execution_count": 11,
   "id": "255717bf-0818-4505-adf3-7cb255442b36",
   "metadata": {},
   "outputs": [
    {
     "name": "stdout",
     "output_type": "stream",
     "text": [
      "Model: \"sequential\"\n",
      "_________________________________________________________________\n",
      " Layer (type)                Output Shape              Param #   \n",
      "=================================================================\n",
      " hidden1 (Dense)             (None, 128)               9472      \n",
      "                                                                 \n",
      " hidden2 (Dense)             (None, 32)                4128      \n",
      "                                                                 \n",
      " output (Dense)              (None, 1)                 33        \n",
      "                                                                 \n",
      "=================================================================\n",
      "Total params: 13,633\n",
      "Trainable params: 13,633\n",
      "Non-trainable params: 0\n",
      "_________________________________________________________________\n"
     ]
    },
    {
     "data": {
      "image/png": "[encoded data removed]",
      "text/plain": [
       "<IPython.core.display.Image object>"
      ]
     },
     "execution_count": 11,
     "metadata": {},
     "output_type": "execute_result"
    }
   ],
   "source": [
    "modelff = create_modelff()\n",
    "modelff.summary()\n",
    "plot_model(modelff)"
   ]
  },
  {
   "cell_type": "code",
   "execution_count": 12,
   "id": "b430d61c-fbc6-4128-b663-ac8a513a349a",
   "metadata": {},
   "outputs": [
    {
     "name": "stderr",
     "output_type": "stream",
     "text": [
      "C:\\Users\\yuhow\\anaconda3\\lib\\site-packages\\tensorflow\\python\\framework\\indexed_slices.py:444: UserWarning: Converting sparse IndexedSlices(IndexedSlices(indices=Tensor(\"gradient_tape/sequential/hidden1/embedding_lookup_sparse/Reshape_1:0\", shape=(None,), dtype=int32), values=Tensor(\"gradient_tape/sequential/hidden1/embedding_lookup_sparse/Reshape:0\", shape=(None, 128), dtype=float32), dense_shape=Tensor(\"gradient_tape/sequential/hidden1/embedding_lookup_sparse/Cast:0\", shape=(2,), dtype=int32))) to a dense Tensor of unknown shape. This may consume a large amount of memory.\n",
      "  warnings.warn(\n"
     ]
    },
    {
     "name": "stdout",
     "output_type": "stream",
     "text": [
      "Restoring model weights from the end of the best epoch: 32.\n",
      "Epoch 82: early stopping\n",
      "CPU times: total: 1min 20s\n",
      "Wall time: 36.3 s\n"
     ]
    }
   ],
   "source": [
    "#train model 1\n",
    "pr_auc = tf.keras.metrics.AUC(curve=\"PR\", name=\"pr_auc\")\n",
    "modelff.compile(optimizer=\"adam\", loss=\"BinaryCrossentropy\", metrics=[\"accuracy\", \"AUC\", pr_auc])\n",
    "esff = EarlyStopping(patience=50, restore_best_weights=True, monitor=\"val_pr_auc\", verbose=1)\n",
    "%time histff=modelff.fit(X_train_ct, y_train_oe, callbacks=[esff], epochs=1_000, verbose=0, validation_data=(X_val_ct, y_val_oe), class_weight={0: 1, 1: 10})"
   ]
  },
  {
   "cell_type": "code",
   "execution_count": 13,
   "id": "e1ec6b72-9e00-481e-810f-14e7ee4fea0d",
   "metadata": {},
   "outputs": [
    {
     "data": {
      "text/plain": [
       "[0.005078264512121677,\n",
       " 0.9997413754463196,\n",
       " 0.9999995827674866,\n",
       " 0.9999974370002747]"
      ]
     },
     "execution_count": 13,
     "metadata": {},
     "output_type": "execute_result"
    }
   ],
   "source": [
    "modelff.evaluate(X_train_ct, y_train_oe, verbose=0)"
   ]
  },
  {
   "cell_type": "code",
   "execution_count": 14,
   "id": "defb7500-5bb4-46c0-bd27-57be515a5137",
   "metadata": {},
   "outputs": [
    {
     "data": {
      "text/plain": [
       "[0.09838380664587021,\n",
       " 0.9810003638267517,\n",
       " 0.9791858792304993,\n",
       " 0.9603365659713745]"
      ]
     },
     "execution_count": 14,
     "metadata": {},
     "output_type": "execute_result"
    }
   ],
   "source": [
    "modelff.evaluate(X_val_ct, y_val_oe, verbose=0)"
   ]
  },
  {
   "cell_type": "code",
   "execution_count": 15,
   "id": "dcd08f9b-1fd2-4efd-8857-7325628e13a4",
   "metadata": {},
   "outputs": [
    {
     "name": "stdout",
     "output_type": "stream",
     "text": [
      "81/81 [==============================] - 0s 848us/step\n"
     ]
    }
   ],
   "source": [
    "y_pred = modelff.predict(X_test_ct)"
   ]
  },
  {
   "cell_type": "code",
   "execution_count": 16,
   "id": "e760f3f2-a95f-4422-a948-ba6cb7e83760",
   "metadata": {},
   "outputs": [
    {
     "data": {
      "image/png": "[encoded data removed]",
      "text/plain": [
       "<Figure size 432x288 with 1 Axes>"
      ]
     },
     "metadata": {
      "needs_background": "light"
     },
     "output_type": "display_data"
    }
   ],
   "source": [
    "RocCurveDisplay.from_predictions(y_test_oe, y_pred, name=\"\");"
   ]
  },
  {
   "cell_type": "code",
   "execution_count": 17,
   "id": "e0b2dc3e-da91-44a2-bcf6-d3a4ac9ab4ac",
   "metadata": {},
   "outputs": [
    {
     "data": {
      "image/png": "[encoded data removed]",
      "text/plain": [
       "<Figure size 432x288 with 1 Axes>"
      ]
     },
     "metadata": {
      "needs_background": "light"
     },
     "output_type": "display_data"
    }
   ],
   "source": [
    "PrecisionRecallDisplay.from_predictions(y_test_oe, y_pred, name=\"\"); plt.legend(loc=\"upper right\");"
   ]
  },
  {
   "cell_type": "code",
   "execution_count": 18,
   "id": "f90e7aea-51a0-4fa2-ba4a-25ba16fc7ec6",
   "metadata": {},
   "outputs": [],
   "source": [
    "#data preprocess for model 2\n",
    "NUM_STATES, NUM_AREA = X_train.nunique()[[\"state\", \"area_code\"]]\n",
    "\n",
    "ctwd = make_column_transformer(\n",
    "  (OrdinalEncoder(), [\"state\", \"area_code\", \"international_plan\",\n",
    "    \"voice_mail_plan\"]),\n",
    "  remainder=StandardScaler()\n",
    ")\n",
    "X_train_ctwd = ctwd.fit_transform(X_train)\n",
    "X_test_ctwd = ctwd.transform(X_test)\n",
    "X_val_ctwd = ctwd.transform(X_val)"
   ]
  },
  {
   "cell_type": "code",
   "execution_count": 19,
   "id": "50e2c580-b5db-42dd-94a2-0cfb525f91c3",
   "metadata": {},
   "outputs": [],
   "source": [
    "#extract categorical data for entity embedding\n",
    "X_train_state = X_train_ctwd[:,0]\n",
    "X_test_state = X_test_ctwd[:,0]\n",
    "X_val_state = X_val_ctwd[:,0]\n",
    "X_train_area = X_train_ctwd[:,1]\n",
    "X_val_area = X_val_ctwd[:,1]\n",
    "X_test_area = X_test_ctwd[:,1]\n",
    "X_train_rest = X_train_ctwd[:,2:]\n",
    "X_test_rest = X_test_ctwd[:,2:]\n",
    "X_val_rest = X_val_ctwd[:,2:]"
   ]
  },
  {
   "cell_type": "code",
   "execution_count": 20,
   "id": "6811fde8-174a-4781-a076-d2234ea57c02",
   "metadata": {},
   "outputs": [],
   "source": [
    "#inputs for model 2\n",
    "usstates = Input(shape=(1,), name=\"states\")\n",
    "area = Input(shape=(1,), name=\"area_code\")\n",
    "otherInputs = Input(shape=X_train_rest.shape[1:], name=\"otherInputs\")"
   ]
  },
  {
   "cell_type": "code",
   "execution_count": 21,
   "id": "29f17e5e-55e6-4bb4-aed2-637a6c824a3f",
   "metadata": {},
   "outputs": [],
   "source": [
    "#Create embeddings and join them with the other inputs week 4 p32\n",
    "tf.random.set_seed(21072022)\n",
    "stateEE = Embedding(input_dim=NUM_STATES, output_dim=2,\n",
    "    name=\"stateEE\")(usstates)\n",
    "stateEE = Reshape(target_shape=(2,))(stateEE)\n",
    "\n",
    "areaEE = Embedding(input_dim=NUM_AREA, output_dim=2,\n",
    "    name=\"area_codeEE\")(area)\n",
    "areaEE = Reshape(target_shape=(2,))(areaEE)\n",
    "\n",
    "x = Concatenate(name=\"wide\")([stateEE, areaEE, otherInputs])"
   ]
  },
  {
   "cell_type": "code",
   "execution_count": 22,
   "id": "db29b6d4-747b-413e-98a8-c1f3bab192a6",
   "metadata": {},
   "outputs": [],
   "source": [
    "#building model 2 with function API\n",
    "hidden1 = Dense(64, activation=\"leaky_relu\", name=\"hidden1\")(x)\n",
    "hidden2 = Dense(64, activation=\"leaky_relu\", name=\"hidden2\")(hidden1)\n",
    "hidden3 = Dense(8, activation=\"leaky_relu\", name=\"deep\")(hidden2)\n",
    "concat = Concatenate(name=\"wide-and-deep\")([x, hidden3])\n",
    "output = Dense(1,activation=\"sigmoid\", name=\"output\")(concat)\n",
    "modelwd = Model(inputs=[usstates,area,otherInputs], outputs=[output])"
   ]
  },
  {
   "cell_type": "code",
   "execution_count": 23,
   "id": "a2bf0e6a-a20a-4f1f-8561-7e9e4707ca90",
   "metadata": {},
   "outputs": [
    {
     "name": "stdout",
     "output_type": "stream",
     "text": [
      "Model: \"model\"\n",
      "__________________________________________________________________________________________________\n",
      " Layer (type)                   Output Shape         Param #     Connected to                     \n",
      "==================================================================================================\n",
      " states (InputLayer)            [(None, 1)]          0           []                               \n",
      "                                                                                                  \n",
      " area_code (InputLayer)         [(None, 1)]          0           []                               \n",
      "                                                                                                  \n",
      " stateEE (Embedding)            (None, 1, 2)         102         ['states[0][0]']                 \n",
      "                                                                                                  \n",
      " area_codeEE (Embedding)        (None, 1, 2)         6           ['area_code[0][0]']              \n",
      "                                                                                                  \n",
      " reshape (Reshape)              (None, 2)            0           ['stateEE[0][0]']                \n",
      "                                                                                                  \n",
      " reshape_1 (Reshape)            (None, 2)            0           ['area_codeEE[0][0]']            \n",
      "                                                                                                  \n",
      " otherInputs (InputLayer)       [(None, 17)]         0           []                               \n",
      "                                                                                                  \n",
      " wide (Concatenate)             (None, 21)           0           ['reshape[0][0]',                \n",
      "                                                                  'reshape_1[0][0]',              \n",
      "                                                                  'otherInputs[0][0]']            \n",
      "                                                                                                  \n",
      " hidden1 (Dense)                (None, 64)           1408        ['wide[0][0]']                   \n",
      "                                                                                                  \n",
      " hidden2 (Dense)                (None, 64)           4160        ['hidden1[0][0]']                \n",
      "                                                                                                  \n",
      " deep (Dense)                   (None, 8)            520         ['hidden2[0][0]']                \n",
      "                                                                                                  \n",
      " wide-and-deep (Concatenate)    (None, 29)           0           ['wide[0][0]',                   \n",
      "                                                                  'deep[0][0]']                   \n",
      "                                                                                                  \n",
      " output (Dense)                 (None, 1)            30          ['wide-and-deep[0][0]']          \n",
      "                                                                                                  \n",
      "==================================================================================================\n",
      "Total params: 6,226\n",
      "Trainable params: 6,226\n",
      "Non-trainable params: 0\n",
      "__________________________________________________________________________________________________\n"
     ]
    }
   ],
   "source": [
    "plot_model(modelwd,show_shapes=True)\n",
    "modelwd.summary()"
   ]
  },
  {
   "cell_type": "code",
   "execution_count": 24,
   "id": "ddf093d9-e287-41f3-aabb-8f1d9d5d1791",
   "metadata": {},
   "outputs": [
    {
     "name": "stdout",
     "output_type": "stream",
     "text": [
      "Restoring model weights from the end of the best epoch: 111.\n",
      "Epoch 161: early stopping\n",
      "CPU times: total: 1min 25s\n",
      "Wall time: 52.8 s\n"
     ]
    }
   ],
   "source": [
    "modelwd.compile(optimizer=\"sgd\", loss=\"BinaryCrossentropy\", metrics=[\"accuracy\", \"AUC\", pr_auc])\n",
    "eswd = EarlyStopping(patience=50, restore_best_weights=True, monitor=\"val_pr_auc\", verbose=1)\n",
    "%time histff=modelwd.fit((X_train_state,X_train_area,X_train_rest), y_train_oe, callbacks=[eswd], epochs=1_000, verbose=0, validation_data=((X_val_state,X_val_area,X_val_rest), y_val_oe), class_weight={0: 1, 1: 10})"
   ]
  },
  {
   "cell_type": "code",
   "execution_count": 25,
   "id": "d10ff3cf-741e-4156-9ef7-46fd0fff6547",
   "metadata": {},
   "outputs": [
    {
     "data": {
      "text/plain": [
       "[0.006703645456582308,\n",
       " 0.9990949034690857,\n",
       " 0.9999755620956421,\n",
       " 0.9998401999473572]"
      ]
     },
     "execution_count": 25,
     "metadata": {},
     "output_type": "execute_result"
    }
   ],
   "source": [
    "modelwd.evaluate((X_train_state,X_train_area,X_train_rest), y_train_oe, verbose=0)"
   ]
  },
  {
   "cell_type": "code",
   "execution_count": 26,
   "id": "4ac9965f-2b33-4e35-80fb-0af5fbefc045",
   "metadata": {},
   "outputs": [
    {
     "data": {
      "text/plain": [
       "[0.08396697044372559,\n",
       " 0.9821636080741882,\n",
       " 0.984690248966217,\n",
       " 0.9613032341003418]"
      ]
     },
     "execution_count": 26,
     "metadata": {},
     "output_type": "execute_result"
    }
   ],
   "source": [
    "modelwd.evaluate((X_val_state,X_val_area,X_val_rest), y_val_oe, verbose=0)"
   ]
  },
  {
   "cell_type": "code",
   "execution_count": 27,
   "id": "dfbdf985-a751-4446-a553-066f28c484c2",
   "metadata": {},
   "outputs": [
    {
     "name": "stdout",
     "output_type": "stream",
     "text": [
      "81/81 [==============================] - 0s 723us/step\n"
     ]
    }
   ],
   "source": [
    "y_predwd = modelwd.predict((X_test_state,X_test_area,X_test_rest))"
   ]
  },
  {
   "cell_type": "code",
   "execution_count": 28,
   "id": "e294e620-fb10-4127-8597-46afe8411e82",
   "metadata": {},
   "outputs": [
    {
     "data": {
      "image/png": "[encoded data removed]",
      "text/plain": [
       "<Figure size 432x288 with 1 Axes>"
      ]
     },
     "metadata": {
      "needs_background": "light"
     },
     "output_type": "display_data"
    }
   ],
   "source": [
    "RocCurveDisplay.from_predictions(y_test_oe, y_predwd, name=\"\");\n",
    "plt.savefig('roc.png')"
   ]
  },
  {
   "cell_type": "code",
   "execution_count": 29,
   "id": "2f171875-5e65-4aaf-ad09-ef7105bbbba7",
   "metadata": {},
   "outputs": [
    {
     "data": {
      "image/png": "[encoded data removed]",
      "text/plain": [
       "<Figure size 432x288 with 1 Axes>"
      ]
     },
     "metadata": {
      "needs_background": "light"
     },
     "output_type": "display_data"
    }
   ],
   "source": [
    "PrecisionRecallDisplay.from_predictions(y_test_oe, y_predwd, name=\"\");\n",
    "plt.savefig('pr.png')"
   ]
  },
  {
   "cell_type": "code",
   "execution_count": 30,
   "id": "4193f53c-77e8-4cf6-a634-1c2464b2c612",
   "metadata": {},
   "outputs": [
    {
     "data": {
      "text/plain": [
       "[0.08886951953172684,\n",
       " 0.9856533408164978,\n",
       " 0.9846564531326294,\n",
       " 0.9592158794403076]"
      ]
     },
     "execution_count": 30,
     "metadata": {},
     "output_type": "execute_result"
    }
   ],
   "source": [
    "modelwd.evaluate((X_test_state,X_test_area,X_test_rest), y_test_oe, verbose=0)"
   ]
  },
  {
   "cell_type": "code",
   "execution_count": 31,
   "id": "b0947551-2f80-4a78-9c65-669321ba5e18",
   "metadata": {},
   "outputs": [
    {
     "data": {
      "text/plain": [
       "0.41547915290708254"
      ]
     },
     "execution_count": 31,
     "metadata": {},
     "output_type": "execute_result"
    }
   ],
   "source": [
    "#baseline model performance binary cross entropy\n",
    "bce = tf.keras.losses.BinaryCrossentropy(from_logits=False)\n",
    "y_base=[0.14]*2579\n",
    "bce(y_val_oe, np.array(y_base).reshape(-1,1)).numpy()"
   ]
  },
  {
   "cell_type": "code",
   "execution_count": 32,
   "id": "775c7668-8513-46c3-867e-7ebebdae9044",
   "metadata": {},
   "outputs": [
    {
     "data": {
      "text/plain": [
       "0.85420704"
      ]
     },
     "execution_count": 32,
     "metadata": {},
     "output_type": "execute_result"
    }
   ],
   "source": [
    "#baseline model performance binary accracy\n",
    "bacc=tf.keras.metrics.BinaryAccuracy()\n",
    "y_base=[0]*2579\n",
    "bacc.update_state(y_val_oe, np.array(y_base).reshape(-1,1))\n",
    "bacc.result().numpy()"
   ]
  },
  {
   "cell_type": "code",
   "execution_count": 33,
   "id": "c386ea07-9119-4b69-bce3-6878bb607dbb",
   "metadata": {},
   "outputs": [
    {
     "data": {
      "text/plain": [
       "0.8542070569988368"
      ]
     },
     "execution_count": 33,
     "metadata": {},
     "output_type": "execute_result"
    }
   ],
   "source": [
    "#baseline model performance accuracy\n",
    "y_base=[0.]*2579\n",
    "sklearn.metrics.accuracy_score(y_val_oe,np.array(y_base).reshape(-1,1))"
   ]
  },
  {
   "cell_type": "code",
   "execution_count": 34,
   "id": "dcba174b-e71c-4672-b748-a17e0d46af0e",
   "metadata": {},
   "outputs": [
    {
     "data": {
      "text/plain": [
       "0.5"
      ]
     },
     "execution_count": 34,
     "metadata": {},
     "output_type": "execute_result"
    }
   ],
   "source": [
    "#baseline model performance AUC ROC\n",
    "y_base=[0.]*2579\n",
    "sklearn.metrics.roc_auc_score(y_val_oe,np.array(y_base).reshape(-1,1))"
   ]
  },
  {
   "cell_type": "code",
   "execution_count": 35,
   "id": "a26a98cf-3ae3-44ce-9ae7-fc593c5a7fd2",
   "metadata": {},
   "outputs": [
    {
     "data": {
      "text/plain": [
       "0.5"
      ]
     },
     "execution_count": 35,
     "metadata": {},
     "output_type": "execute_result"
    }
   ],
   "source": [
    "#baseline model performance AUC ROC method 2\n",
    "broc=tf.keras.metrics.AUC(curve=\"ROC\")\n",
    "broc.update_state(y_val_oe, np.array(y_base).reshape(-1,1))\n",
    "broc.result().numpy()"
   ]
  },
  {
   "cell_type": "code",
   "execution_count": 36,
   "id": "952d7a5a-dd4c-45e1-8df8-9af75f51bd5d",
   "metadata": {},
   "outputs": [
    {
     "data": {
      "text/plain": [
       "0.14579295"
      ]
     },
     "execution_count": 36,
     "metadata": {},
     "output_type": "execute_result"
    }
   ],
   "source": [
    "#baseline model performance AUC PR \n",
    "bpr=tf.keras.metrics.AUC(curve=\"PR\")\n",
    "bpr.update_state(y_val_oe, np.array(y_base).reshape(-1,1))\n",
    "bpr.result().numpy()"
   ]
  },
  {
   "cell_type": "code",
   "execution_count": 37,
   "id": "daa571ed-2840-4200-8020-18c997a77311",
   "metadata": {},
   "outputs": [
    {
     "data": {
      "image/png": "[encoded data removed]",
      "text/plain": [
       "<Figure size 432x288 with 1 Axes>"
      ]
     },
     "metadata": {
      "needs_background": "light"
     },
     "output_type": "display_data"
    }
   ],
   "source": [
    "RocCurveDisplay.from_predictions(y_val_oe, y_base, name=\"\");\n",
    "plt.savefig('baseroc.png')"
   ]
  },
  {
   "cell_type": "code",
   "execution_count": 38,
   "id": "73f0ecb8-a0c9-45ff-91b2-ccb200bbfb02",
   "metadata": {},
   "outputs": [
    {
     "data": {
      "image/png": "[encoded data removed]",
      "text/plain": [
       "<Figure size 432x288 with 1 Axes>"
      ]
     },
     "metadata": {
      "needs_background": "light"
     },
     "output_type": "display_data"
    }
   ],
   "source": [
    "PrecisionRecallDisplay.from_predictions(y_val_oe, y_base, name=\"\"); plt.legend(loc=\"upper right\");\n",
    "plt.savefig('basepr.png')"
   ]
  },
  {
   "cell_type": "code",
   "execution_count": 39,
   "id": "8deb25d4-8a0a-4706-96be-cf741f3a0373",
   "metadata": {},
   "outputs": [
    {
     "data": {
      "text/plain": [
       "array([[2203,    0],\n",
       "       [ 376,    0]], dtype=int64)"
      ]
     },
     "execution_count": 39,
     "metadata": {},
     "output_type": "execute_result"
    }
   ],
   "source": [
    "#confusion matrix\n",
    "confusion_matrix(y_val_oe, y_base)"
   ]
  },
  {
   "cell_type": "code",
   "execution_count": null,
   "id": "7562a872-e312-4e62-88d5-778a24433648",
   "metadata": {},
   "outputs": [],
   "source": []
  }
 ],
 "metadata": {
  "kernelspec": {
   "display_name": "Python 3 (ipykernel)",
   "language": "python",
   "name": "python3"
  },
  "language_info": {
   "codemirror_mode": {
    "name": "ipython",
    "version": 3
   },
   "file_extension": ".py",
   "mimetype": "text/x-python",
   "name": "python",
   "nbconvert_exporter": "python",
   "pygments_lexer": "ipython3",
   "version": "3.9.7"
  }
 },
 "nbformat": 4,
 "nbformat_minor": 5
}
